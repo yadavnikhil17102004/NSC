{
 "cells": [
  {
   "cell_type": "code",
   "execution_count": 5,
   "id": "7320e478",
   "metadata": {},
   "outputs": [],
   "source": [
    "s_box = [\n",
    "        0x0c, 0x4, 0x6, 0x2,\n",
    "        0x0a, 0x5, 0xb, 0x9,\n",
    "        0xe, 0x8, 0xd, 0x7,\n",
    "        0x0, 0x3, 0xf, 0x1\n",
    "    ]\n",
    "\n",
    "linear_approximation_table = [\n",
    "        [0, 1, 0, 0],\n",
    "        [0, 0, 0, 1],\n",
    "        [0, 1, 1, 0],\n",
    "        [0, 0, 1, 1],\n",
    "        [0, 1, 1, 1],\n",
    "        [0, 0, 1, 0],\n",
    "        [1, 1, 0, 0],\n",
    "        [1, 0, 0, 1]\n",
    "    ]"
   ]
  },
  {
   "cell_type": "code",
   "execution_count": 6,
   "id": "fd4fa545",
   "metadata": {},
   "outputs": [],
   "source": [
    "def linear_cryptanalysis():\n",
    "        count = {}\n",
    "\n",
    "        for i in range(16):\n",
    "            for j in range(16):\n",
    "                in_pairs = [(i >> k) & 1 for k in range(4)]\n",
    "                out_pairs = [(s_box[j] >> k) & 1 for k in range(4)]\n",
    "\n",
    "                for l in range(len(linear_approximation_table)):\n",
    "                    inner_product = sum(in_pairs[k] * linear_approximation_table[l][k] for k in range(4)) % 2\n",
    "                    if inner_product in count:\n",
    "                        count[inner_product] += 1\n",
    "                    else:\n",
    "                        count[inner_product] = 1\n",
    "\n",
    "        max_count = max(count.values())\n",
    "        probable_keys = [key for key, value in count.items() if value == max_count]\n",
    "\n",
    "        return probable_keys"
   ]
  },
  {
   "cell_type": "code",
   "execution_count": 8,
   "id": "f1f32472",
   "metadata": {},
   "outputs": [],
   "source": [
    "def main():\n",
    "        keys = linear_cryptanalysis()\n",
    "        print(\"Most probable key(s) found by linear cryptanalysis:\", keys)"
   ]
  },
  {
   "cell_type": "code",
   "execution_count": 9,
   "id": "8075ba22",
   "metadata": {},
   "outputs": [
    {
     "name": "stdout",
     "output_type": "stream",
     "text": [
      "Most probable key(s) found by linear cryptanalysis: [0, 1]\n"
     ]
    }
   ],
   "source": [
    "if __name__ == \"__main__\":\n",
    "        main()"
   ]
  }
 ],
 "metadata": {
  "kernelspec": {
   "display_name": "Python 3",
   "language": "python",
   "name": "python3"
  },
  "language_info": {
   "codemirror_mode": {
    "name": "ipython",
    "version": 3
   },
   "file_extension": ".py",
   "mimetype": "text/x-python",
   "name": "python",
   "nbconvert_exporter": "python",
   "pygments_lexer": "ipython3",
   "version": "3.12.9"
  }
 },
 "nbformat": 4,
 "nbformat_minor": 5
}
