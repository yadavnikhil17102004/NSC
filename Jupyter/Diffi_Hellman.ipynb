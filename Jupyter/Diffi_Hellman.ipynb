{
 "cells": [
  {
   "cell_type": "code",
   "execution_count": 1,
   "id": "f4b3de4c",
   "metadata": {},
   "outputs": [],
   "source": [
    "import random"
   ]
  },
  {
   "cell_type": "code",
   "execution_count": null,
   "id": "c5571711",
   "metadata": {},
   "outputs": [],
   "source": [
    "def is_prime(n):\n",
    "    if n <= 1:\n",
    "        return False\n",
    "    if n <= 3:\n",
    "        return True\n",
    "    if n % 2 == 0 or n % 3 == 0:\n",
    "        return False\n",
    "    i = 5\n",
    "    while i * i <= n:\n",
    "        if n % i == 0 or n % (i + 2) == 0:\n",
    "            return False\n",
    "        i += 6\n",
    "    return True"
   ]
  },
  {
   "cell_type": "code",
   "execution_count": null,
   "id": "0d6dbf64",
   "metadata": {},
   "outputs": [],
   "source": [
    "def primitive_root(p):\n",
    "    primitive_roots = []\n",
    "    for i in range(2, p):\n",
    "        s = set()\n",
    "        for j in range(1, p):\n",
    "            s.add(pow(i, j, p))\n",
    "        if len(s) == p - 1:\n",
    "            primitive_roots.append(i)\n",
    "    return primitive_roots"
   ]
  },
  {
   "cell_type": "code",
   "execution_count": null,
   "id": "6c40f02e",
   "metadata": {},
   "outputs": [],
   "source": [
    "def diffie_hellman(p, g):\n",
    "    a = random.randint(2, p - 1)\n",
    "    b = random.randint(2, p - 1)\n",
    "    A = pow(g, a, p)\n",
    "    B = pow(g, b, p)\n",
    "    K1 = pow(B, a, p)\n",
    "    K2 = pow(A, b, p)\n",
    "    return K1, K2"
   ]
  },
  {
   "cell_type": "code",
   "execution_count": null,
   "id": "92b832f0",
   "metadata": {},
   "outputs": [
    {
     "name": "stdout",
     "output_type": "stream",
     "text": [
      "Shared secret key for Alice: 10\n",
      "Shared secret key for Bob: 10\n"
     ]
    }
   ],
   "source": [
    "p = 23\n",
    "g = primitive_root(p)[0]\n",
    "K1, K2 = diffie_hellma\n",
    "p, g)\n",
    "print(\"Shared secret key for Alice:\", K1)\n",
    "print(\"Shared secret key for Bob:\", K2)"
   ]
  }
 ],
 "metadata": {
  "kernelspec": {
   "display_name": "Python 3",
   "language": "python",
   "name": "python3"
  },
  "language_info": {
   "codemirror_mode": {
    "name": "ipython",
    "version": 3
   },
   "file_extension": ".py",
   "mimetype": "text/x-python",
   "name": "python",
   "nbconvert_exporter": "python",
   "pygments_lexer": "ipython3",
   "version": "3.12.9"
  }
 },
 "nbformat": 4,
 "nbformat_minor": 5
}
