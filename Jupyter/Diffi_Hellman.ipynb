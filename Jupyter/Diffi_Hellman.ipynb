{
 "cells": [
  {
   "cell_type": "code",
   "execution_count": null,
   "id": "b61d6ab8",
   "metadata": {
    "vscode": {
     "languageId": "plaintext"
    }
   },
   "outputs": [],
   "source": [
    "import random\n",
    "\n",
    "def is_prime(n):\n",
    "    if n <= 1:\n",
    "        return False\n",
    "    if n <= 3:\n",
    "        return True\n",
    "    if n % 2 == 0 or n % 3 == 0:\n",
    "        return False\n",
    "    i = 5\n",
    "    while i * i <= n:\n",
    "        if n % i == 0 or n % (i + 2) == 0:\n",
    "            return False\n",
    "        i += 6\n",
    "    return True\n",
    "\n",
    "def primitive_root(p):\n",
    "    primitive_roots = []\n",
    "    for i in range(2, p):\n",
    "        s = set()\n",
    "        for j in range(1, p):\n",
    "            s.add(pow(i, j, p))\n",
    "        if len(s) == p - 1:\n",
    "            primitive_roots.append(i)\n",
    "    return primitive_roots\n",
    "\n",
    "def diffie_hellman(p, g):\n",
    "    a = random.randint(2, p - 1)\n",
    "    b = random.randint(2, p - 1)\n",
    "    A = pow(g, a, p)\n",
    "    B = pow(g, b, p)\n",
    "    K1 = pow(B, a, p)\n",
    "    K2 = pow(A, b, p)\n",
    "    return K1, K2\n",
    "\n",
    "p = 23\n",
    "g = primitive_root(p)[0]\n",
    "K1, K2 = diffie_hellman(p, g)\n",
    "print(\"Shared secret key for Alice:\", K1)\n",
    "print(\"Shared secret key for Bob:\", K2)"
   ]
  }
 ],
 "metadata": {
  "language_info": {
   "name": "python"
  }
 },
 "nbformat": 4,
 "nbformat_minor": 5
}
