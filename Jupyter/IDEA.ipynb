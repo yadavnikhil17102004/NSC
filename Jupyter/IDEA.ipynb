{
 "cells": [
  {
   "cell_type": "code",
   "execution_count": 7,
   "id": "d41bf728",
   "metadata": {},
   "outputs": [
    {
     "ename": "ModuleNotFoundError",
     "evalue": "No module named 'pyidea'",
     "output_type": "error",
     "traceback": [
      "\u001b[31m---------------------------------------------------------------------------\u001b[39m",
      "\u001b[31mModuleNotFoundError\u001b[39m                       Traceback (most recent call last)",
      "\u001b[36mCell\u001b[39m\u001b[36m \u001b[39m\u001b[32mIn[7]\u001b[39m\u001b[32m, line 5\u001b[39m\n\u001b[32m      1\u001b[39m \u001b[38;5;66;03m# First install the pyidea package if you haven't already\u001b[39;00m\n\u001b[32m      2\u001b[39m \u001b[38;5;66;03m# !pip install pyidea\u001b[39;00m\n\u001b[32m      3\u001b[39m \n\u001b[32m      4\u001b[39m \u001b[38;5;66;03m# Replace the import with pyidea\u001b[39;00m\n\u001b[32m----> \u001b[39m\u001b[32m5\u001b[39m \u001b[38;5;28;01mimport\u001b[39;00m\u001b[38;5;250m \u001b[39m\u001b[34;01mpyidea\u001b[39;00m\n\u001b[32m      6\u001b[39m \u001b[38;5;28;01mfrom\u001b[39;00m\u001b[38;5;250m \u001b[39m\u001b[34;01mCrypto\u001b[39;00m\u001b[34;01m.\u001b[39;00m\u001b[34;01mRandom\u001b[39;00m\u001b[38;5;250m \u001b[39m\u001b[38;5;28;01mimport\u001b[39;00m get_random_bytes\n\u001b[32m      7\u001b[39m \u001b[38;5;28;01mfrom\u001b[39;00m\u001b[38;5;250m \u001b[39m\u001b[34;01mCrypto\u001b[39;00m\u001b[34;01m.\u001b[39;00m\u001b[34;01mUtil\u001b[39;00m\u001b[34;01m.\u001b[39;00m\u001b[34;01mPadding\u001b[39;00m\u001b[38;5;250m \u001b[39m\u001b[38;5;28;01mimport\u001b[39;00m pad, unpad\n",
      "\u001b[31mModuleNotFoundError\u001b[39m: No module named 'pyidea'"
     ]
    }
   ],
   "source": [
    "# First install the pyidea package if you haven't already\n",
    "# !pip install pyidea\n",
    "\n",
    "# Replace the import with pyidea\n",
    "import pyidea\n",
    "from Crypto.Random import get_random_bytes\n",
    "from Crypto.Util.Padding import pad, unpad\n",
    "\n",
    "# Example usage of IDEA with pyidea\n",
    "def encrypt_with_idea(plaintext, key):\n",
    "    # IDEA uses a 128-bit (16-byte) key\n",
    "    if len(key) != 16:\n",
    "        raise ValueError(\"Key must be 16 bytes long\")\n",
    "    \n",
    "    # Create IDEA cipher instance\n",
    "    cipher = pyidea.IDEA(key)\n",
    "    \n",
    "    # IDEA operates on 8-byte blocks, so we need to pad\n",
    "    padded_data = pad(plaintext, 8)\n",
    "    \n",
    "    # Encrypt the data\n",
    "    ciphertext = b''\n",
    "    for i in range(0, len(padded_data), 8):\n",
    "        block = padded_data[i:i+8]\n",
    "        encrypted_block = cipher.encrypt(block)\n",
    "        ciphertext += encrypted_block\n",
    "    \n",
    "    return ciphertext\n",
    "\n",
    "def decrypt_with_idea(ciphertext, key):\n",
    "    # Create IDEA cipher instance\n",
    "    cipher = pyidea.IDEA(key)\n",
    "    \n",
    "    # Decrypt the data\n",
    "    plaintext = b''\n",
    "    for i in range(0, len(ciphertext), 8):\n",
    "        block = ciphertext[i:i+8]\n",
    "        decrypted_block = cipher.decrypt(block)\n",
    "        plaintext += decrypted_block\n",
    "    \n",
    "    # Remove padding\n",
    "    return unpad(plaintext, 8)"
   ]
  },
  {
   "cell_type": "code",
   "execution_count": null,
   "id": "ad666b36",
   "metadata": {},
   "outputs": [],
   "source": []
  }
 ],
 "metadata": {
  "kernelspec": {
   "display_name": "Python 3",
   "language": "python",
   "name": "python3"
  },
  "language_info": {
   "codemirror_mode": {
    "name": "ipython",
    "version": 3
   },
   "file_extension": ".py",
   "mimetype": "text/x-python",
   "name": "python",
   "nbconvert_exporter": "python",
   "pygments_lexer": "ipython3",
   "version": "3.12.9"
  }
 },
 "nbformat": 4,
 "nbformat_minor": 5
}
