{
 "cells": [
  {
   "cell_type": "code",
   "execution_count": null,
   "id": "78b6677b",
   "metadata": {
    "vscode": {
     "languageId": "plaintext"
    }
   },
   "outputs": [],
   "source": [
    "from Crypto.Cipher import IDEA\n",
    "from Crypto.Random import get_random_bytes\n",
    "from Crypto.Util.Padding import pad, unpad\n",
    "\n",
    "def generate_key():\n",
    "    return get_random_bytes(16)\n",
    "\n",
    "def encrypt_block(block, key):\n",
    "    cipher = IDEA.new(key[:16], IDEA.MODE_ECB)\n",
    "    padded_block = pad(block, IDEA.block_size)\n",
    "    return cipher.encrypt(padded_block)\n",
    "\n",
    "def decrypt_block(encrypted_block, key):\n",
    "    cipher = IDEA.new(key[:16], IDEA.MODE_ECB)\n",
    "    decrypted_data = cipher.decrypt(encrypted_block)\n",
    "    return unpad(decrypted_data, IDEA.block_size)\n",
    "\n",
    "def main():\n",
    "    key = generate_key()\n",
    "    print(\"Generated Key:\", key.hex())\n",
    "    plaintext = b'Hello World!'\n",
    "    print(\"Plaintext:\", plaintext)\n",
    "    encrypted = encrypt_block(plaintext, key)\n",
    "    print(\"Encrypted (hex):\", encrypted.hex())\n",
    "    decrypted = decrypt_block(encrypted, key)\n",
    "    print(\"Decrypted:\", decrypted)\n",
    "\n",
    "if __name__ == \"__main__\":\n",
    "    main()"
   ]
  }
 ],
 "metadata": {
  "language_info": {
   "name": "python"
  }
 },
 "nbformat": 4,
 "nbformat_minor": 5
}
