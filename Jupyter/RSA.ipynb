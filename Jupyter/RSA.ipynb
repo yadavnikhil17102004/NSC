{
 "cells": [
  {
   "cell_type": "code",
   "execution_count": 1,
   "id": "564b94e6",
   "metadata": {},
   "outputs": [
    {
     "name": "stdout",
     "output_type": "stream",
     "text": [
      "Original Message: Hello, RSA!\n",
      "Encrypted Message: b'3\\xdf\\x8f_\\xe5\\xec\\xfc\\xec\\x08\\x16%s/\\x11s~#\\x12\\xa6\\xc8\\xaaJ\\x1a\\xce\\xaf\\x84\\x08LK`\\xa9\\xbbg\\x08\\xf2\\x91SWW\\xa6\\xecGi+\\x0e\\xe4V)\\xb1\\xb4wt\\xea\\xa2\\x8b\\x81\\xa15#u\\xe6\\xd0\\xbf\\xc6\\xd1V\\t\\xd2\\xe6v\\x8e\\x96(\\x90\\xc4\\x80\\xe8\\xab\\x17\\xf3\\xff\\x19uh\\xc9dE5\\x05\\xaf\\xaf\\xb2\\x08W\\xff\\x8c\\x98\\x97h\\x91\\x80\\x10\\x11K\\xd2\\xf4|+\\xb6\\xa4<\\xe6\\xd0K\\x1f\\xcb\\xbek\\xffa\\xae\\x17\\xe8\\xa0\\xca\\x80\\xf7\\x88\\xa3r\\x01/\\x99sa\\xf9\\x9e\\xd9\\xdf\\x1f\\xd1\\xdc\\x05\\x7f\\xfd\\x9e\\x1e%\\x8e\\xb4$\\x11\\xffT\\xff\\xb7%\\xb8\\xb8\\xca\\xc3@e\\x90\\x03m\\xa4\\x18\\xae\\xbf\\xe9T\\xabZ\\x04\\x99\\x1d.\\xaf\"2\\n\\xad![\\x87\\xb9hd\\x18\\x8b\\x93\\x90\\x8b\\x14\\xe5\\xc5\\x83\\xb0^\\xc9mc\\x88\\x12_\\xcdOb\\xe5l\\xe1UNYP4y\\xa1z\\xfa1\\x85\\x7f4D\\x9b|DYF\\x92\\x83MH\\x06\\x939-\\x86C\\xe9\\x15\\nj\\x16f\\x12s\\xa4\\x8d\\xf4\\x05\\xb4qU'\n",
      "Decrypted Message: Hello, RSA!\n"
     ]
    }
   ],
   "source": [
    "from Crypto.PublicKey import RSA\n",
    "from Crypto.Cipher import PKCS1_OAEP\n",
    "from Crypto.Random import get_random_bytes\n",
    "\n",
    "def generate_rsa_keys():\n",
    "    key = RSA.generate(2048)\n",
    "    private_key = key.export_key()\n",
    "    public_key = key.publickey().export_key()\n",
    "    return private_key, public_key\n",
    "\n",
    "def encrypt_message(public_key, message):\n",
    "    rsa_key = RSA.import_key(public_key)\n",
    "    cipher = PKCS1_OAEP.new(rsa_key)\n",
    "    encrypted_message = cipher.encrypt(message.encode())\n",
    "    return encrypted_message\n",
    "\n",
    "def decrypt_message(private_key, encrypted_message):\n",
    "    rsa_key = RSA.import_key(private_key)\n",
    "    cipher = PKCS1_OAEP.new(rsa_key)\n",
    "    decrypted_message = cipher.decrypt(encrypted_message)\n",
    "    return decrypted_message.decode()\n",
    "\n",
    "private_key, public_key = generate_rsa_keys()\n",
    "message = \"Hello, RSA!\"\n",
    "encrypted_message = encrypt_message(public_key, message)\n",
    "decrypted_message = decrypt_message(private_key, encrypted_message)\n",
    "\n",
    "print(\"Original Message:\", message)\n",
    "print(\"Encrypted Message:\", encrypted_message)\n",
    "print(\"Decrypted Message:\", decrypted_message)"
   ]
  },
  {
   "cell_type": "code",
   "execution_count": null,
   "id": "2e94588e",
   "metadata": {},
   "outputs": [],
   "source": []
  }
 ],
 "metadata": {
  "kernelspec": {
   "display_name": "Python 3",
   "language": "python",
   "name": "python3"
  },
  "language_info": {
   "codemirror_mode": {
    "name": "ipython",
    "version": 3
   },
   "file_extension": ".py",
   "mimetype": "text/x-python",
   "name": "python",
   "nbconvert_exporter": "python",
   "pygments_lexer": "ipython3",
   "version": "3.12.9"
  }
 },
 "nbformat": 4,
 "nbformat_minor": 5
}
