{
 "cells": [
  {
   "cell_type": "code",
   "execution_count": 1,
   "id": "8d2fae2f",
   "metadata": {},
   "outputs": [
    {
     "name": "stdout",
     "output_type": "stream",
     "text": [
      "Ciphertext: RIJVS\n",
      "Decrypted Text: HELLO\n"
     ]
    }
   ],
   "source": [
    "def poly_alpha_encrypt(plaintext, key):\n",
    "    \"\"\"\n",
    "    Encrypts the plaintext using the Polyalphabetic Cipher with the given key.\n",
    "    \"\"\"\n",
    "    ciphertext = []\n",
    "    key_length = len(key)\n",
    "    key_as_int = [ord(i) for i in key]\n",
    "    plaintext_as_int = [ord(i) for i in plaintext]\n",
    "    \n",
    "    for i in range(len(plaintext_as_int)):\n",
    "        value = (plaintext_as_int[i] + key_as_int[i % key_length]) % 26\n",
    "        ciphertext.append(chr(value + 65))\n",
    "    \n",
    "    return ''.join(ciphertext)\n",
    "\n",
    "def poly_alpha_decrypt(ciphertext, key):\n",
    "    plaintext = []\n",
    "    key_length = len(key)\n",
    "    key_as_int = [ord(i) for i in key]\n",
    "    ciphertext_as_int = [ord(i) for i in ciphertext]\n",
    "    \n",
    "    for i in range(len(ciphertext_as_int)):\n",
    "        value = (ciphertext_as_int[i] - key_as_int[i % key_length]) % 26\n",
    "        plaintext.append(chr(value + 65))\n",
    "    \n",
    "    return ''.join(plaintext)\n",
    "\n",
    "key = \"KEY\"\n",
    "plaintext = \"HELLO\"\n",
    "ciphertext = poly_alpha_encrypt(plaintext, key)\n",
    "print(\"Ciphertext:\", ciphertext)\n",
    "\n",
    "decrypted_text = poly_alpha_decrypt(ciphertext, key)\n",
    "print(\"Decrypted Text:\", decrypted_text)"
   ]
  },
  {
   "cell_type": "code",
   "execution_count": null,
   "id": "3488d51d",
   "metadata": {},
   "outputs": [],
   "source": []
  }
 ],
 "metadata": {
  "kernelspec": {
   "display_name": "Python 3",
   "language": "python",
   "name": "python3"
  },
  "language_info": {
   "codemirror_mode": {
    "name": "ipython",
    "version": 3
   },
   "file_extension": ".py",
   "mimetype": "text/x-python",
   "name": "python",
   "nbconvert_exporter": "python",
   "pygments_lexer": "ipython3",
   "version": "3.12.9"
  }
 },
 "nbformat": 4,
 "nbformat_minor": 5
}
