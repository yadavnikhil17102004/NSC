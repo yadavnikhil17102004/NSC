{
 "cells": [
  {
   "cell_type": "code",
   "execution_count": null,
   "id": "87950c74",
   "metadata": {
    "vscode": {
     "languageId": "plaintext"
    }
   },
   "outputs": [],
   "source": [
    "from Crypto.Cipher import DES\n",
    "from Crypto.Random import get_random_bytes\n",
    "from Crypto.Util.Padding import pad, unpad\n",
    "\n",
    "def encrypt_message(message, key):\n",
    "    cipher = DES.new(key, DES.MODE_ECB)\n",
    "    padded_message = pad(message, DES.block_size)\n",
    "    ciphertext = cipher.encrypt(padded_message)\n",
    "    return ciphertext\n",
    "\n",
    "def decrypt_message(ciphertext, key):\n",
    "    cipher = DES.new(key, DES.MODE_ECB)\n",
    "    decrypted_padded = cipher.decrypt(ciphertext)\n",
    "    return unpad(decrypted_padded, DES.block_size)\n",
    "\n",
    "def main():\n",
    "    key = get_random_bytes(8)\n",
    "    message = b\"Hello, DES!\"\n",
    "    ciphertext = encrypt_message(message, key)\n",
    "    print(\"Encrypted message:\", ciphertext.hex())\n",
    "    decrypted_message = decrypt_message(ciphertext, key)\n",
    "    print(\"Decrypted message:\", decrypted_message.decode())\n",
    "\n",
    "if __name__ == \"__main__\":\n",
    "    main()\n"
   ]
  }
 ],
 "metadata": {
  "language_info": {
   "name": "python"
  }
 },
 "nbformat": 4,
 "nbformat_minor": 5
}
