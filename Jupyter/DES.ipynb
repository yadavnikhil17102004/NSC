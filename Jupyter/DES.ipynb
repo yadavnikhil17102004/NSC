{
 "cells": [
  {
   "cell_type": "code",
   "execution_count": 5,
   "id": "938a858a",
   "metadata": {},
   "outputs": [],
   "source": [
    "from Crypto.Cipher import DES\n",
    "from Crypto.Random import get_random_bytes\n",
    "from Crypto.Util.Padding import pad, unpad"
   ]
  },
  {
   "cell_type": "code",
   "execution_count": 6,
   "id": "a936d50e",
   "metadata": {},
   "outputs": [],
   "source": [
    "def encrypt_message(message, key):\n",
    "    cipher = DES.new(key, DES.MODE_ECB)\n",
    "    padded_message = pad(message, DES.block_size)\n",
    "    ciphertext = cipher.encrypt(padded_message)\n",
    "    return ciphertext"
   ]
  },
  {
   "cell_type": "code",
   "execution_count": 7,
   "id": "6ead0224",
   "metadata": {},
   "outputs": [],
   "source": [
    "def decrypt_message(ciphertext, key):\n",
    "    cipher = DES.new(key, DES.MODE_ECB)\n",
    "    decrypted_padded = cipher.decrypt(ciphertext)\n",
    "    return unpad(decrypted_padded, DES.block_size)"
   ]
  },
  {
   "cell_type": "code",
   "execution_count": 8,
   "id": "31ad478a",
   "metadata": {},
   "outputs": [],
   "source": [
    "def main():\n",
    "    key = get_random_bytes(8)\n",
    "    message = b\"Hello, DES!\"\n",
    "    ciphertext = encrypt_message(message, key)\n",
    "    print(\"Encrypted message:\", ciphertext.hex())\n",
    "    decrypted_message = decrypt_message(ciphertext, key)\n",
    "    print(\"Decrypted message:\", decrypted_message.decode())"
   ]
  },
  {
   "cell_type": "code",
   "execution_count": 9,
   "id": "62cd95d4",
   "metadata": {},
   "outputs": [
    {
     "name": "stdout",
     "output_type": "stream",
     "text": [
      "Encrypted message: b58ca4fa2410d9de506024da7d492e1d\n",
      "Decrypted message: Hello, DES!\n"
     ]
    }
   ],
   "source": [
    "if __name__ == \"__main__\":\n",
    "    main()"
   ]
  },
  {
   "cell_type": "code",
   "execution_count": null,
   "id": "5114ebd6",
   "metadata": {},
   "outputs": [],
   "source": []
  }
 ],
 "metadata": {
  "kernelspec": {
   "display_name": "Python 3",
   "language": "python",
   "name": "python3"
  },
  "language_info": {
   "codemirror_mode": {
    "name": "ipython",
    "version": 3
   },
   "file_extension": ".py",
   "mimetype": "text/x-python",
   "name": "python",
   "nbconvert_exporter": "python",
   "pygments_lexer": "ipython3",
   "version": "3.12.9"
  }
 },
 "nbformat": 4,
 "nbformat_minor": 5
}
