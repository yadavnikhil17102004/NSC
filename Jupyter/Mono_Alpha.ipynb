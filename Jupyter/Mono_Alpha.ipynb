{
 "cells": [
  {
   "cell_type": "code",
   "execution_count": null,
   "id": "83ad9a68",
   "metadata": {
    "vscode": {
     "languageId": "plaintext"
    }
   },
   "outputs": [],
   "source": [
    "def monoalphabetic_cipher_encrypt(plaintext, mapping): \n",
    "    plaintext = plaintext.upper() \n",
    "    encrypted_message = '' \n",
    "    for char in plaintext: \n",
    "        if char.isalpha(): \n",
    "            encrypted_message += mapping[char] \n",
    "        else: \n",
    "    encrypted_message += char \n",
    "    return encrypted_message \n",
    " \n",
    "def main():\n",
    "    mapping = { \n",
    "    'A': 'Q', 'B': 'Z', 'C': 'R', 'D': 'T', 'E': 'Y', 'F': 'U', 'G': 'P', \n",
    "    'H': 'S', 'I': 'O', 'J': 'K', 'K': 'W', 'L': 'X', 'M': 'V', 'N': 'N', \n",
    "    'O': 'M', 'P': 'B', 'Q': 'C', 'R': 'D', 'S': 'E', 'T': 'F', 'U': 'G', \n",
    "    'V': 'H', 'W': 'I', 'X': 'J', 'Y': 'A', 'Z': 'L' \n",
    "    } \n",
    "     \n",
    "    plaintext = input(\"Enter the plaintext message: \") \n",
    "    \n",
    "    encrypted_message = monoalphabetic_cipher_encrypt(plaintext, mapping) \n",
    "    \n",
    "    print(\"Encrypted message:\", encrypted_message) \n",
    "    \n",
    "if  name == \" main \": \n",
    "    main()"
   ]
  }
 ],
 "metadata": {
  "language_info": {
   "name": "python"
  }
 },
 "nbformat": 4,
 "nbformat_minor": 5
}
