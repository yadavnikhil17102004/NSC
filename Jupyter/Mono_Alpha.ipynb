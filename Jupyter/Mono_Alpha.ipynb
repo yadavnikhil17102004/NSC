{
 "cells": [
  {
   "cell_type": "code",
   "execution_count": 1,
   "id": "d3a824af",
   "metadata": {},
   "outputs": [],
   "source": [
    "def monoalphabetic_cipher_encrypt(plaintext, mapping): \n",
    "    plaintext = plaintext.upper() \n",
    "    encrypted_message = '' \n",
    "    for char in plaintext: \n",
    "        if char.isalpha(): \n",
    "            encrypted_message += mapping[char] \n",
    "        else: \n",
    "            encrypted_message += char \n",
    "    return encrypted_message "
   ]
  },
  {
   "cell_type": "code",
   "execution_count": 2,
   "id": "5fab1585",
   "metadata": {},
   "outputs": [],
   "source": [
    "def main():\n",
    "    mapping = { \n",
    "    'A': 'Q', 'B': 'Z', 'C': 'R', 'D': 'T', 'E': 'Y', 'F': 'U', 'G': 'P', \n",
    "    'H': 'S', 'I': 'O', 'J': 'K', 'K': 'W', 'L': 'X', 'M': 'V', 'N': 'N', \n",
    "    'O': 'M', 'P': 'B', 'Q': 'C', 'R': 'D', 'S': 'E', 'T': 'F', 'U': 'G', \n",
    "    'V': 'H', 'W': 'I', 'X': 'J', 'Y': 'A', 'Z': 'L' \n",
    "    } \n",
    "     \n",
    "    plaintext = input(\"Enter the plaintext message: \") \n",
    "    \n",
    "    encrypted_message = monoalphabetic_cipher_encrypt(plaintext, mapping) \n",
    "    \n",
    "    print(\"Encrypted message:\", encrypted_message) "
   ]
  },
  {
   "cell_type": "code",
   "execution_count": 3,
   "id": "93867190",
   "metadata": {},
   "outputs": [
    {
     "name": "stdout",
     "output_type": "stream",
     "text": [
      "Encrypted message: PP\n"
     ]
    }
   ],
   "source": [
    "if __name__ == \"__main__\": \n",
    "    main()"
   ]
  },
  {
   "cell_type": "code",
   "execution_count": null,
   "id": "bb0c0a72",
   "metadata": {},
   "outputs": [],
   "source": []
  }
 ],
 "metadata": {
  "kernelspec": {
   "display_name": "Python 3",
   "language": "python",
   "name": "python3"
  },
  "language_info": {
   "codemirror_mode": {
    "name": "ipython",
    "version": 3
   },
   "file_extension": ".py",
   "mimetype": "text/x-python",
   "name": "python",
   "nbconvert_exporter": "python",
   "pygments_lexer": "ipython3",
   "version": "3.12.9"
  }
 },
 "nbformat": 4,
 "nbformat_minor": 5
}
