{
 "cells": [
  {
   "cell_type": "code",
   "execution_count": null,
   "id": "0b766723",
   "metadata": {},
   "outputs": [],
   "source": [
    "from cryptography.hazmat.primitives.ciphers import Cipher, algorithms, modes\n",
    "from cryptography.hazmat.primitives import padding\n",
    "from cryptography.hazmat.backends import default_backend\n",
    "import os\n",
    "\n",
    "key = os.urandom(32)\n",
    "iv = os.urandom(16)"
   ]
  },
  {
   "cell_type": "code",
   "execution_count": null,
   "id": "a558dc5a",
   "metadata": {},
   "outputs": [],
   "source": [
    "def aes_encrypt(plaintext, key, iv):\n",
    "    padder = padding.PKCS7(128).padder()\n",
    "    padded_data = padder.update(plaintext.encode()) + padder.finalize()\n",
    "    \n",
    "    cipher = Cipher(algorithms.AES(key), modes.CBC(iv), backend=default_backend())\n",
    "    encryptor = cipher.encryptor()\n",
    "    \n",
    "    ciphertext = encryptor.update(padded_data) + encryptor.finalize()\n",
    "    return ciphertext"
   ]
  },
  {
   "cell_type": "code",
   "execution_count": null,
   "id": "5408e63b",
   "metadata": {},
   "outputs": [],
   "source": [
    "def aes_decrypt(ciphertext, key, iv):\n",
    "    cipher = Cipher(algorithms.AES(key), modes.CBC(iv), backend=default_backend())\n",
    "    decryptor = cipher.decryptor()\n",
    "    \n",
    "    padded_plaintext = decryptor.update(ciphertext) + decryptor.finalize()\n",
    "    \n",
    "    unpadder = padding.PKCS7(128).unpadder()\n",
    "    plaintext = unpadder.update(padded_plaintext) + unpadder.finalize()\n",
    "    return plaintext.decode()"
   ]
  },
  {
   "cell_type": "code",
   "execution_count": 6,
   "id": "b2da818e",
   "metadata": {},
   "outputs": [
    {
     "name": "stdout",
     "output_type": "stream",
     "text": [
      "Ciphertext: b'#\\x95\\xa6m?\\x80|\"2\\xd61(2\\xb7f W\\x81\\xb2Ji\\xe3\\xc2\\r\\xd1R_\\x1d\\xffwqp'\n",
      "Decrypted text: This is a secret message.\n"
     ]
    }
   ],
   "source": [
    "plaintext = \"This is a secret message.\"\n",
    "ciphertext = aes_encrypt(plaintext, key, iv)\n",
    "print(\"Ciphertext:\", ciphertext)\n",
    "\n",
    "decrypted_text = aes_decrypt(ciphertext, key, iv)\n",
    "print(\"Decrypted text:\", decrypted_text)"
   ]
  }
 ],
 "metadata": {
  "kernelspec": {
   "display_name": "Python 3",
   "language": "python",
   "name": "python3"
  },
  "language_info": {
   "codemirror_mode": {
    "name": "ipython",
    "version": 3
   },
   "file_extension": ".py",
   "mimetype": "text/x-python",
   "name": "python",
   "nbconvert_exporter": "python",
   "pygments_lexer": "ipython3",
   "version": "3.12.9"
  }
 },
 "nbformat": 4,
 "nbformat_minor": 5
}
