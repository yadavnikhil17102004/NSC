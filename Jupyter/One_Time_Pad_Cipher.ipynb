{
 "cells": [
  {
   "cell_type": "code",
   "execution_count": 3,
   "id": "54a97fde",
   "metadata": {},
   "outputs": [
    {
     "name": "stdout",
     "output_type": "stream",
     "text": [
      "Cipher Text: \u0019=3')\n",
      "Decrypted Message: Apple\n"
     ]
    }
   ],
   "source": [
    "def encrypt(message, key):\n",
    "    return ''.join(chr(ord(m) ^ ord(k)) for m, k in zip(message, key))\n",
    "def decrypt(cipher_text, key):\n",
    "    return ''.join(chr(ord(c) ^ ord(k)) for c, k in zip(cipher_text, key))\n",
    "message = \"Apples\"\n",
    "key = \"XMCKL\" \n",
    "cipher_text = encrypt(message, key)\n",
    "print(\"Cipher Text:\", cipher_text)\n",
    "decrypted_message = decrypt(cipher_text, key)\n",
    "print(\"Decrypted Message:\", decrypted_message)"
   ]
  }
 ],
 "metadata": {
  "kernelspec": {
   "display_name": "Python 3",
   "language": "python",
   "name": "python3"
  },
  "language_info": {
   "codemirror_mode": {
    "name": "ipython",
    "version": 3
   },
   "file_extension": ".py",
   "mimetype": "text/x-python",
   "name": "python",
   "nbconvert_exporter": "python",
   "pygments_lexer": "ipython3",
   "version": "3.12.9"
  }
 },
 "nbformat": 4,
 "nbformat_minor": 5
}
