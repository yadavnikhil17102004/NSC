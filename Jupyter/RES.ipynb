{
 "cells": [
  {
   "cell_type": "code",
   "execution_count": 1,
   "id": "79bb9e70",
   "metadata": {},
   "outputs": [
    {
     "name": "stdout",
     "output_type": "stream",
     "text": [
      "Cipher Text: [3000, 28, 2726, 2726, 1307]\n",
      "Decrypted Text: HELLO\n"
     ]
    }
   ],
   "source": [
    "import math\n",
    "def gcd(a, b):\n",
    "    while b:\n",
    "        a, b = b, a % b\n",
    "    return a\n",
    "def mod_inverse(e, phi):\n",
    "    for d in range(1, phi):\n",
    "        if (e * d) % phi == 1:\n",
    "            return d\n",
    "    return None\n",
    "def generate_keys():\n",
    "    p = 61 \n",
    "    q = 53 \n",
    "    n = p * q\n",
    "    phi = (p - 1) * (q - 1)\n",
    "    \n",
    "    e = 17\n",
    "    while gcd(e, phi) != 1:\n",
    "        e += 1\n",
    "    d = mod_inverse(e, phi)\n",
    "    \n",
    "    return (e, n), (d, n)\n",
    "def encrypt(public_key, plaintext):\n",
    "    e, n = public_key\n",
    "    cipher_text = [(ord(char) ** e) % n for char in plaintext]\n",
    "    return cipher_text\n",
    "def decrypt(private_key, cipher_text):\n",
    "    d, n = private_key\n",
    "    decrypted_text = ''.join([chr((char ** d) % n) for char in cipher_text])\n",
    "    return decrypted_text\n",
    "public_key, private_key = generate_keys()\n",
    "plaintext = \"HELLO\"\n",
    "cipher_text = encrypt(public_key, plaintext)\n",
    "print(\"Cipher Text:\", cipher_text)\n",
    "decrypted_text = decrypt(private_key, cipher_text)\n",
    "print(\"Decrypted Text:\", decrypted_text)"
   ]
  },
  {
   "cell_type": "code",
   "execution_count": null,
   "id": "41773c6f",
   "metadata": {},
   "outputs": [],
   "source": []
  }
 ],
 "metadata": {
  "kernelspec": {
   "display_name": "Python 3",
   "language": "python",
   "name": "python3"
  },
  "language_info": {
   "codemirror_mode": {
    "name": "ipython",
    "version": 3
   },
   "file_extension": ".py",
   "mimetype": "text/x-python",
   "name": "python",
   "nbconvert_exporter": "python",
   "pygments_lexer": "ipython3",
   "version": "3.12.9"
  }
 },
 "nbformat": 4,
 "nbformat_minor": 5
}
