{
 "cells": [
  {
   "cell_type": "code",
   "execution_count": 1,
   "metadata": {},
   "outputs": [],
   "source": [
    "def caesar_cipher(text, shift):\n",
    "    result = \"\"\n",
    "    for char in text:\n",
    "        if char.isalpha():\n",
    "            shift_base = ord('A') if char.isupper() else ord('a')\n",
    "            result += chr((ord(char) - shift_base + shift) % 26 + shift_base)\n",
    "        else:\n",
    "            result += char\n",
    "    return result"
   ]
  },
  {
   "cell_type": "code",
   "execution_count": 2,
   "metadata": {},
   "outputs": [
    {
     "name": "stdout",
     "output_type": "stream",
     "text": [
      "Encrypted: Khoor, Zruog!\n",
      "Decrypted: Hello, World!\n"
     ]
    }
   ],
   "source": [
    "plain_text = \"Hello, World!\"\n",
    "shift_value = 3\n",
    "encrypted_text = caesar_cipher(plain_text, shift_value)\n",
    "print(\"Encrypted:\", encrypted_text)\n",
    "\n",
    "decrypted_text = caesar_cipher(encrypted_text, -shift_value)\n",
    "print(\"Decrypted:\", decrypted_text)"
   ]
  }
 ],
 "metadata": {
  "kernelspec": {
   "display_name": "Python 3",
   "language": "python",
   "name": "python3"
  },
  "language_info": {
   "codemirror_mode": {
    "name": "ipython",
    "version": 3
   },
   "file_extension": ".py",
   "mimetype": "text/x-python",
   "name": "python",
   "nbconvert_exporter": "python",
   "pygments_lexer": "ipython3",
   "version": "3.12.9"
  }
 },
 "nbformat": 4,
 "nbformat_minor": 2
}
