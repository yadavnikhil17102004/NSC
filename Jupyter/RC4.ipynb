{
 "cells": [
  {
   "cell_type": "code",
   "execution_count": 1,
   "metadata": {},
   "outputs": [
    {
     "name": "stdout",
     "output_type": "stream",
     "text": [
      "Ciphertext (hex): 5cdd502bb05e3ef0a7271c\n",
      "Decrypted text: Hello, RC4!\n"
     ]
    }
   ],
   "source": [
    "def rc4(key, plaintext):\n",
    "    S = list(range(256))\n",
    "    j = 0\n",
    "\n",
    "    for i in range(256):\n",
    "        j = (j + S[i] + key[i % len(key)]) % 256\n",
    "        S[i], S[j] = S[j], S[i]\n",
    "\n",
    "    i = j = 0\n",
    "    ciphertext = bytearray()\n",
    "    for char in plaintext:\n",
    "        i = (i + 1) % 256\n",
    "        j = (j + S[i]) % 256\n",
    "        S[i], S[j] = S[j], S[i]\n",
    "        k = S[(S[i] + S[j]) % 256]\n",
    "        ciphertext.append(char ^ k) \n",
    "\n",
    "    return bytes(ciphertext)\n",
    "\n",
    "\n",
    "def main():\n",
    "    \n",
    "    key = bytearray(b\"SecretKey\")                   \n",
    "    plaintext = bytearray(b\"Hello, RC4!\")           \n",
    "\n",
    "    ciphertext = rc4(key, plaintext)\n",
    "    print(\"Ciphertext (hex):\", ciphertext.hex())\n",
    "\n",
    "    decrypted_text = rc4(key, ciphertext)\n",
    "    print(\"Decrypted text:\", decrypted_text.decode())\n",
    "\n",
    "\n",
    "if __name__ == \"__main__\":\n",
    "    main()\n"
   ]
  },
  {
   "cell_type": "code",
   "execution_count": null,
   "id": "6bac278c",
   "metadata": {},
   "outputs": [],
   "source": []
  }
 ],
 "metadata": {
  "kernelspec": {
   "display_name": "Python 3",
   "language": "python",
   "name": "python3"
  },
  "language_info": {
   "codemirror_mode": {
    "name": "ipython",
    "version": 3
   },
   "file_extension": ".py",
   "mimetype": "text/x-python",
   "name": "python",
   "nbconvert_exporter": "python",
   "pygments_lexer": "ipython3",
   "version": "3.12.9"
  }
 },
 "nbformat": 4,
 "nbformat_minor": 5
}
