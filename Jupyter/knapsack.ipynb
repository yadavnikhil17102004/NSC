{
 "cells": [
  {
   "cell_type": "code",
   "execution_count": null,
   "id": "0edb8adf",
   "metadata": {
    "vscode": {
     "languageId": "plaintext"
    }
   },
   "outputs": [],
   "source": [
    "from random import randint\n",
    "\n",
    "def generate_superincreasing_sequence(length):\n",
    "    sequence = [randint(1, 10)]\n",
    "    for _ in range(length - 1):\n",
    "        sequence.append(sum(sequence) + randint(sequence[-1] + 1, sequence[-1] * 2))\n",
    "    return sequence\n",
    "\n",
    "def generate_modulus(sequence):\n",
    "    return sum(sequence) + randint(1, 10)\n",
    "\n",
    "def generate_public_key(sequence, modulus):\n",
    "    multiplier = randint(2, 10)\n",
    "    return [(elem * multiplier) % modulus for elem in sequence]\n",
    "\n",
    "def generate_private_key(sequence, modulus):\n",
    "    inverse = pow(sum(sequence), -1, modulus)\n",
    "    return [(elem * inverse) % modulus for elem in sequence]\n",
    "\n",
    "def encrypt_message(message, public_key):\n",
    "    binary_message = ''.join(format(ord(char), '08b') for char in message)\n",
    "    return sum(int(bit) * public_key[i % len(public_key)] for i, bit in enumerate(binary_message))\n",
    "\n",
    "def decrypt_message(encrypted_message, private_key, modulus):\n",
    "    total = encrypted_message\n",
    "    bits = ''\n",
    "    for key in reversed(private_key):\n",
    "        if total >= key:\n",
    "            bits = '1' + bits\n",
    "            total -= key\n",
    "        else:\n",
    "            bits = '0' + bits\n",
    "    chars = [chr(int(bits[i:i+8], 2)) for i in range(0, len(bits), 8)]\n",
    "    return ''.join(chars)\n",
    "\n",
    "def main():\n",
    "    length = 8\n",
    "    sequence = generate_superincreasing_sequence(length)\n",
    "    modulus = generate_modulus(sequence)\n",
    "    public_key = generate_public_key(sequence, modulus)\n",
    "    private_key = generate_private_key(sequence, modulus)\n",
    "    message = \"Hello, Knapsack!\"\n",
    "    print(\"Original message:\", message)\n",
    "    encrypted_message = encrypt_message(message, public_key)\n",
    "    print(\"Encrypted message:\", encrypted_message)\n",
    "    decrypted_message = decrypt_message(encrypted_message, private_key, modulus)\n",
    "    print(\"Decrypted message:\", decrypted_message)\n",
    "\n",
    "if __name__ == \"__main__\":\n",
    "    main()\n"
   ]
  }
 ],
 "metadata": {
  "language_info": {
   "name": "python"
  }
 },
 "nbformat": 4,
 "nbformat_minor": 5
}
