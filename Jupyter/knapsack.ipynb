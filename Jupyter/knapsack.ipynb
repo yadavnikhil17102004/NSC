{
 "cells": [
  {
   "cell_type": "code",
   "execution_count": 5,
   "id": "e91ff961",
   "metadata": {},
   "outputs": [],
   "source": [
    "from random import randint\n",
    "from math import gcd"
   ]
  },
  {
   "cell_type": "code",
   "execution_count": 6,
   "id": "017f9c22",
   "metadata": {},
   "outputs": [],
   "source": [
    "def generate_superincreasing_sequence(length):\n",
    "    sequence = [randint(1, 10)]\n",
    "    for _ in range(length - 1):\n",
    "        sequence.append(sum(sequence) + randint(1, 10))\n",
    "    return sequence"
   ]
  },
  {
   "cell_type": "code",
   "execution_count": 7,
   "id": "5f35ee92",
   "metadata": {},
   "outputs": [],
   "source": [
    "def generate_modulus(sequence):\n",
    "    return sum(sequence) + randint(1, 10)"
   ]
  },
  {
   "cell_type": "code",
   "execution_count": 8,
   "id": "94bd1ef9",
   "metadata": {},
   "outputs": [],
   "source": [
    "def generate_multiplier(modulus):\n",
    "    while True:\n",
    "        multiplier = randint(2, modulus - 1)\n",
    "        if gcd(multiplier, modulus) == 1:\n",
    "            return multiplier"
   ]
  },
  {
   "cell_type": "code",
   "execution_count": 9,
   "id": "a1c1305d",
   "metadata": {},
   "outputs": [],
   "source": [
    "def generate_public_key(sequence, modulus, multiplier):\n",
    "    return [(elem * multiplier) % modulus for elem in sequence]"
   ]
  },
  {
   "cell_type": "code",
   "execution_count": 10,
   "id": "e52a57b8",
   "metadata": {},
   "outputs": [],
   "source": [
    "def mod_inverse(a, m):\n",
    "    m0, x0, x1 = m, 0, 1\n",
    "    while a > 1:\n",
    "        q = a // m\n",
    "        a, m = m, a % m\n",
    "        x0, x1 = x1 - q * x0, x0\n",
    "    return x1 + m0 if x1 < 0 else x1"
   ]
  },
  {
   "cell_type": "code",
   "execution_count": 11,
   "id": "4995f0fa",
   "metadata": {},
   "outputs": [],
   "source": [
    "def encrypt_message(message, public_key):\n",
    "    binary_message = ''.join(format(ord(char), '08b') for char in message)\n",
    "    encrypted_blocks = []\n",
    "    for i in range(0, len(binary_message), len(public_key)):\n",
    "        block = binary_message[i:i + len(public_key)]\n",
    "        block += '0' * (len(public_key) - len(block))\n",
    "        encrypted_blocks.append(sum(int(bit) * public_key[j] for j, bit in enumerate(block)))\n",
    "    return encrypted_blocks"
   ]
  },
  {
   "cell_type": "code",
   "execution_count": 12,
   "id": "4319b310",
   "metadata": {},
   "outputs": [],
   "source": [
    "def decrypt_message(encrypted_blocks, private_key, multiplier_inverse, modulus):\n",
    "    decrypted_bits = ''\n",
    "    for block in encrypted_blocks:\n",
    "        c_prime = (block * multiplier_inverse) % modulus\n",
    "        bits = ''\n",
    "        for w in reversed(private_key):\n",
    "            if c_prime >= w:\n",
    "                bits = '1' + bits\n",
    "                c_prime -= w\n",
    "            else:\n",
    "                bits = '0' + bits\n",
    "        decrypted_bits += bits\n",
    "    chars = [chr(int(decrypted_bits[i:i+8], 2)) for i in range(0, len(decrypted_bits), 8)]\n",
    "    return ''.join(chars).rstrip('\\x00')"
   ]
  },
  {
   "cell_type": "code",
   "execution_count": 13,
   "id": "41ab65a4",
   "metadata": {},
   "outputs": [],
   "source": [
    "def main():\n",
    "    length = 8\n",
    "    private_key = generate_superincreasing_sequence(length)\n",
    "    modulus = generate_modulus(private_key)\n",
    "    multiplier = generate_multiplier(modulus)\n",
    "    public_key = generate_public_key(private_key, modulus, multiplier)\n",
    "    multiplier_inverse = mod_inverse(multiplier, modulus)\n",
    "    message = \"Hello!\"\n",
    "    print(\"Original message:\", message)\n",
    "    encrypted = encrypt_message(message, public_key)\n",
    "    print(\"Encrypted:\", encrypted)\n",
    "    decrypted = decrypt_message(encrypted, private_key, multiplier_inverse, modulus)\n",
    "    print(\"Decrypted:\", decrypted)"
   ]
  },
  {
   "cell_type": "code",
   "execution_count": 14,
   "id": "02101cff",
   "metadata": {},
   "outputs": [
    {
     "name": "stdout",
     "output_type": "stream",
     "text": [
      "Original message: Hello!\n",
      "Encrypted: [1301, 3946, 3405, 3405, 5072, 1743]\n",
      "Decrypted: Hello!\n"
     ]
    }
   ],
   "source": [
    "if __name__ == \"__main__\":\n",
    "    main()"
   ]
  },
  {
   "cell_type": "code",
   "execution_count": null,
   "id": "aff27a70",
   "metadata": {},
   "outputs": [],
   "source": []
  }
 ],
 "metadata": {
  "kernelspec": {
   "display_name": "Python 3",
   "language": "python",
   "name": "python3"
  },
  "language_info": {
   "codemirror_mode": {
    "name": "ipython",
    "version": 3
   },
   "file_extension": ".py",
   "mimetype": "text/x-python",
   "name": "python",
   "nbconvert_exporter": "python",
   "pygments_lexer": "ipython3",
   "version": "3.12.9"
  }
 },
 "nbformat": 4,
 "nbformat_minor": 5
}
