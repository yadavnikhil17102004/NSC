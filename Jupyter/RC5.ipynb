{
 "cells": [
  {
   "cell_type": "code",
   "execution_count": 1,
   "id": "4a298230",
   "metadata": {},
   "outputs": [
    {
     "ename": "ImportError",
     "evalue": "cannot import name 'RC5' from 'Crypto.Cipher' (c:\\Users\\yadav\\AppData\\Local\\Programs\\Python\\Python312\\Lib\\site-packages\\Crypto\\Cipher\\__init__.py)",
     "output_type": "error",
     "traceback": [
      "\u001b[31m---------------------------------------------------------------------------\u001b[39m",
      "\u001b[31mImportError\u001b[39m                               Traceback (most recent call last)",
      "\u001b[36mCell\u001b[39m\u001b[36m \u001b[39m\u001b[32mIn[1]\u001b[39m\u001b[32m, line 1\u001b[39m\n\u001b[32m----> \u001b[39m\u001b[32m1\u001b[39m \u001b[38;5;28;01mfrom\u001b[39;00m\u001b[38;5;250m \u001b[39m\u001b[34;01mCrypto\u001b[39;00m\u001b[34;01m.\u001b[39;00m\u001b[34;01mCipher\u001b[39;00m\u001b[38;5;250m \u001b[39m\u001b[38;5;28;01mimport\u001b[39;00m RC5\n\u001b[32m      2\u001b[39m \u001b[38;5;28;01mfrom\u001b[39;00m\u001b[38;5;250m \u001b[39m\u001b[34;01mCrypto\u001b[39;00m\u001b[34;01m.\u001b[39;00m\u001b[34;01mRandom\u001b[39;00m\u001b[38;5;250m \u001b[39m\u001b[38;5;28;01mimport\u001b[39;00m get_random_bytes\n\u001b[32m      4\u001b[39m \u001b[38;5;28;01mdef\u001b[39;00m\u001b[38;5;250m \u001b[39m\u001b[34mencrypt_message\u001b[39m(key, plaintext):\n",
      "\u001b[31mImportError\u001b[39m: cannot import name 'RC5' from 'Crypto.Cipher' (c:\\Users\\yadav\\AppData\\Local\\Programs\\Python\\Python312\\Lib\\site-packages\\Crypto\\Cipher\\__init__.py)"
     ]
    }
   ],
   "source": [
    "from Crypto.Cipher import RC5\n",
    "from Crypto.Random import get_random_bytes\n",
    "\n",
    "def encrypt_message(key, plaintext):\n",
    "    cipher = RC5.new(key, RC5.MODE_ECB)\n",
    "    padded_text = plaintext + b'\\x00' * (8 - len(plaintext) % 8)\n",
    "    ciphertext = cipher.encrypt(padded_text)\n",
    "    return ciphertext\n",
    "\n",
    "def decrypt_message(key, ciphertext):\n",
    "    cipher = RC5.new(key, RC5.MODE_ECB)\n",
    "    decrypted = cipher.decrypt(ciphertext)\n",
    "    return decrypted.rstrip(b'\\x00')\n",
    "\n",
    "def main():\n",
    "    key = get_random_bytes(16)\n",
    "    message = b\"Hello, RC5!\"\n",
    "    encrypted = encrypt_message(key, message)\n",
    "    print(\"Encrypted:\", encrypted.hex())\n",
    "    decrypted = decrypt_message(key, encrypted)\n",
    "    print(\"Decrypted:\", decrypted.decode())\n",
    "\n",
    "if __name__ == \"__main__\":\n",
    "    main()\n"
   ]
  },
  {
   "cell_type": "code",
   "execution_count": null,
   "id": "28ffaff4",
   "metadata": {},
   "outputs": [],
   "source": []
  }
 ],
 "metadata": {
  "kernelspec": {
   "display_name": "Python 3",
   "language": "python",
   "name": "python3"
  },
  "language_info": {
   "codemirror_mode": {
    "name": "ipython",
    "version": 3
   },
   "file_extension": ".py",
   "mimetype": "text/x-python",
   "name": "python",
   "nbconvert_exporter": "python",
   "pygments_lexer": "ipython3",
   "version": "3.12.9"
  }
 },
 "nbformat": 4,
 "nbformat_minor": 5
}
