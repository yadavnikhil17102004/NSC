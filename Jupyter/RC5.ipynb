{
 "cells": [
  {
   "cell_type": "code",
   "execution_count": null,
   "id": "0dba7f9d",
   "metadata": {
    "vscode": {
     "languageId": "plaintext"
    }
   },
   "outputs": [],
   "source": [
    "from Crypto.Cipher import RC5\n",
    "from Crypto.Random import get_random_bytes\n",
    "\n",
    "def encrypt_message(key, plaintext):\n",
    "    cipher = RC5.new(key, RC5.MODE_ECB)\n",
    "    padded_text = plaintext + b'\\x00' * (8 - len(plaintext) % 8)\n",
    "    ciphertext = cipher.encrypt(padded_text)\n",
    "    return ciphertext\n",
    "\n",
    "def decrypt_message(key, ciphertext):\n",
    "    cipher = RC5.new(key, RC5.MODE_ECB)\n",
    "    decrypted = cipher.decrypt(ciphertext)\n",
    "    return decrypted.rstrip(b'\\x00')\n",
    "\n",
    "def main():\n",
    "    key = get_random_bytes(16)\n",
    "    message = b\"Hello, RC5!\"\n",
    "    encrypted = encrypt_message(key, message)\n",
    "    print(\"Encrypted:\", encrypted.hex())\n",
    "    decrypted = decrypt_message(key, encrypted)\n",
    "    print(\"Decrypted:\", decrypted.decode())\n",
    "\n",
    "if __name__ == \"__main__\":\n",
    "    main()\n"
   ]
  }
 ],
 "metadata": {
  "language_info": {
   "name": "python"
  }
 },
 "nbformat": 4,
 "nbformat_minor": 5
}
