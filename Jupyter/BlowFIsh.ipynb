{
 "cells": [
  {
   "cell_type": "code",
   "execution_count": null,
   "id": "74263d25",
   "metadata": {
    "vscode": {
     "languageId": "plaintext"
    }
   },
   "outputs": [],
   "source": [
    "from Crypto.Cipher import Blowfish\n",
    "from Crypto.Random import get_random_bytes\n",
    "from Crypto.Util.Padding import pad, unpad\n",
    "\n",
    "def encrypt_message(key, plaintext):\n",
    "    cipher = Blowfish.new(key, Blowfish.MODE_ECB)\n",
    "    padded_text = pad(plaintext, Blowfish.block_size)\n",
    "    ciphertext = cipher.encrypt(padded_text)\n",
    "    return ciphertext\n",
    "\n",
    "def decrypt_message(key, ciphertext):\n",
    "    cipher = Blowfish.new(key, Blowfish.MODE_ECB)\n",
    "    decrypted = cipher.decrypt(ciphertext)\n",
    "    return unpad(decrypted, Blowfish.block_size)\n",
    "\n",
    "def main():\n",
    "    key = get_random_bytes(16)\n",
    "    plaintext = b\"Hello, Blowfish!\"\n",
    "    ciphertext = encrypt_message(key, plaintext)\n",
    "    print(\"Encrypted message:\", ciphertext.hex())\n",
    "    decrypted_message = decrypt_message(key, ciphertext)\n",
    "    print(\"Decrypted message:\", decrypted_message.decode())\n",
    "\n",
    "if __name__ == \"__main__\":\n",
    "    main()\n"
   ]
  }
 ],
 "metadata": {
  "language_info": {
   "name": "python"
  }
 },
 "nbformat": 4,
 "nbformat_minor": 5
}
