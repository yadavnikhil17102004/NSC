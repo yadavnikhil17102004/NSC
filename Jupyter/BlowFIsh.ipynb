{
 "cells": [
  {
   "cell_type": "code",
   "execution_count": null,
   "id": "81263575",
   "metadata": {},
   "outputs": [],
   "source": [
    "from Crypto.Cipher import Blowfish\n",
    "from Crypto.Random import get_random_bytes\n",
    "from Crypto.Util.Padding import pad, unpad"
   ]
  },
  {
   "cell_type": "code",
   "execution_count": null,
   "id": "1240d672",
   "metadata": {},
   "outputs": [],
   "source": [
    "def encrypt_message(key, plaintext):\n",
    "    cipher = Blowfish.new(key, Blowfish.MODE_ECB)\n",
    "    padded_text = pad(plaintext, Blowfish.block_size)\n",
    "    ciphertext = cipher.encrypt(padded_text)\n",
    "    return ciphertext"
   ]
  },
  {
   "cell_type": "code",
   "execution_count": null,
   "id": "334f81df",
   "metadata": {},
   "outputs": [],
   "source": [
    "def decrypt_message(key, ciphertext):\n",
    "    cipher = Blowfish.new(key, Blowfish.MODE_ECB)\n",
    "    decrypted = cipher.decrypt(ciphertext)\n",
    "    return unpad(decrypted, Blowfish.block_size)"
   ]
  },
  {
   "cell_type": "code",
   "execution_count": null,
   "id": "fa11fe42",
   "metadata": {},
   "outputs": [],
   "source": [
    "def main():\n",
    "    key = get_random_bytes(16)\n",
    "    plaintext = b\"Hello, Blowfish!\"\n",
    "    ciphertext = encrypt_message(key, plaintext)\n",
    "    print(\"Encrypted message:\", ciphertext.hex())\n",
    "    decrypted_message = decrypt_message(key, ciphertext)\n",
    "    print(\"Decrypted message:\", decrypted_message.decode())"
   ]
  },
  {
   "cell_type": "code",
   "execution_count": null,
   "id": "9935a7b4",
   "metadata": {},
   "outputs": [
    {
     "name": "stdout",
     "output_type": "stream",
     "text": [
      "Encrypted message: 4ea48cc2c457c2efbca831431bb617ff2cdae644c8b14258\n",
      "Decrypted message: Hello, Blowfish!\n"
     ]
    }
   ],
   "source": [
    "if __name__ == \"__main__\":\n",
    "    main()"
   ]
  }
 ],
 "metadata": {
  "kernelspec": {
   "display_name": "Python 3",
   "language": "python",
   "name": "python3"
  },
  "language_info": {
   "codemirror_mode": {
    "name": "ipython",
    "version": 3
   },
   "file_extension": ".py",
   "mimetype": "text/x-python",
   "name": "python",
   "nbconvert_exporter": "python",
   "pygments_lexer": "ipython3",
   "version": "3.12.9"
  }
 },
 "nbformat": 4,
 "nbformat_minor": 5
}
