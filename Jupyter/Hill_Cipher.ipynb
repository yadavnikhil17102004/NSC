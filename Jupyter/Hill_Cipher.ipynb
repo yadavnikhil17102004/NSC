{
 "cells": [
  {
   "cell_type": "code",
   "execution_count": 3,
   "id": "2d8a1980",
   "metadata": {},
   "outputs": [],
   "source": [
    "import numpy as np\n",
    "\n",
    "def text_to_numbers(text):\n",
    "    return [ord(char) - ord('A') for char in text.upper()]"
   ]
  },
  {
   "cell_type": "code",
   "execution_count": 4,
   "id": "db5bdfcf",
   "metadata": {},
   "outputs": [],
   "source": [
    "def numbers_to_text(numbers):\n",
    "    return ''.join(chr(num + ord('A')) for num in numbers)"
   ]
  },
  {
   "cell_type": "code",
   "execution_count": 5,
   "id": "04cc3f0c",
   "metadata": {},
   "outputs": [],
   "source": [
    "def hill_encrypt(plain_text, key_matrix):\n",
    "    if len(plain_text) % 2 != 0:\n",
    "        plain_text += 'X' \n",
    "    text_numbers = text_to_numbers(plain_text)\n",
    "    \n",
    "    cipher_numbers = []\n",
    "    for i in range(0, len(text_numbers), 2):\n",
    "        pair = np.dot(key_matrix, text_numbers[i:i + 2]) % 26\n",
    "        cipher_numbers.extend(pair)\n",
    "    \n",
    "    return numbers_to_text(cipher_numbers)"
   ]
  },
  {
   "cell_type": "code",
   "execution_count": 6,
   "id": "065e44f6",
   "metadata": {},
   "outputs": [
    {
     "name": "stdout",
     "output_type": "stream",
     "text": [
      "Original Text: HELLO\n",
      "Encrypted Text: HIOZHN\n"
     ]
    }
   ],
   "source": [
    "key_matrix = np.array([[3, 3], [2, 5]]) \n",
    "plain_text = \"HELLO\"\n",
    "cipher_text = hill_encrypt(plain_text, key_matrix)\n",
    "print(\"Original Text:\", plain_text)\n",
    "print(\"Encrypted Text:\", cipher_text)\n"
   ]
  },
  {
   "cell_type": "code",
   "execution_count": null,
   "id": "a4d797d7",
   "metadata": {},
   "outputs": [],
   "source": []
  }
 ],
 "metadata": {
  "kernelspec": {
   "display_name": "Python 3",
   "language": "python",
   "name": "python3"
  },
  "language_info": {
   "codemirror_mode": {
    "name": "ipython",
    "version": 3
   },
   "file_extension": ".py",
   "mimetype": "text/x-python",
   "name": "python",
   "nbconvert_exporter": "python",
   "pygments_lexer": "ipython3",
   "version": "3.12.9"
  }
 },
 "nbformat": 4,
 "nbformat_minor": 5
}
